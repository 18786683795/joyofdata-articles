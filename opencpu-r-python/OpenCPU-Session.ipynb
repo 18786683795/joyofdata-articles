{
 "metadata": {
  "name": "",
  "signature": "sha256:725b3fe7321309c58acf1c70703d570fef9ab9450eed9099dc3bc1cee6b2062d"
 },
 "nbformat": 3,
 "nbformat_minor": 0,
 "worksheets": [
  {
   "cells": [
    {
     "cell_type": "heading",
     "level": 1,
     "metadata": {},
     "source": [
      "Illustrating Interaction with OpenCPU"
     ]
    },
    {
     "cell_type": "markdown",
     "metadata": {},
     "source": [
      "[**Introduction to OpenCPU for R on EC2 with Python**](http://www.joyofdata.de/blog/introduction-to-opencpu-for-r-on-ec2-with-python) - [joyofdata.de](http://www.joyofdata.de/blog/) / [GitHub](https://github.com/joyofdata) /\n",
      "[Twitter](https://twitter.com/joyofdata)"
     ]
    },
    {
     "cell_type": "markdown",
     "metadata": {},
     "source": [
      "---"
     ]
    },
    {
     "cell_type": "heading",
     "level": 2,
     "metadata": {},
     "source": [
      "Remotely Calling Procedures on HTTP"
     ]
    },
    {
     "cell_type": "code",
     "collapsed": false,
     "input": [
      "import json\n",
      "import requests"
     ],
     "language": "python",
     "metadata": {},
     "outputs": [],
     "prompt_number": 81
    },
    {
     "cell_type": "code",
     "collapsed": false,
     "input": [
      "v = json.dumps([1,2,3,4,5])\n",
      "v"
     ],
     "language": "python",
     "metadata": {},
     "outputs": [
      {
       "metadata": {},
       "output_type": "pyout",
       "prompt_number": 82,
       "text": [
        "'[1, 2, 3, 4, 5]'"
       ]
      }
     ],
     "prompt_number": 82
    },
    {
     "cell_type": "code",
     "collapsed": false,
     "input": [
      "r = requests.post(\"http://public.opencpu.org/ocpu/library/base/R/mean\", data={\"x\":v})"
     ],
     "language": "python",
     "metadata": {},
     "outputs": [],
     "prompt_number": 83
    },
    {
     "cell_type": "code",
     "collapsed": false,
     "input": [
      "print r.content"
     ],
     "language": "python",
     "metadata": {},
     "outputs": [
      {
       "output_type": "stream",
       "stream": "stdout",
       "text": [
        "/ocpu/tmp/x0984badaa5/R/.val\n",
        "/ocpu/tmp/x0984badaa5/stdout\n",
        "/ocpu/tmp/x0984badaa5/source\n",
        "/ocpu/tmp/x0984badaa5/console\n",
        "/ocpu/tmp/x0984badaa5/info\n",
        "/ocpu/tmp/x0984badaa5/files/DESCRIPTION\n",
        "\n"
       ]
      }
     ],
     "prompt_number": 84
    },
    {
     "cell_type": "code",
     "collapsed": false,
     "input": [
      "r = requests.get(\"http://public.opencpu.org/ocpu/tmp/x0984badaa5/R/.val\")"
     ],
     "language": "python",
     "metadata": {},
     "outputs": [],
     "prompt_number": 85
    },
    {
     "cell_type": "code",
     "collapsed": false,
     "input": [
      "print r.content"
     ],
     "language": "python",
     "metadata": {},
     "outputs": [
      {
       "output_type": "stream",
       "stream": "stdout",
       "text": [
        "[1] 3\n",
        "\n"
       ]
      }
     ],
     "prompt_number": 86
    },
    {
     "cell_type": "code",
     "collapsed": false,
     "input": [
      "r_json = requests.post(\"http://public.opencpu.org/ocpu/library/base/R/mean/json\", data={\"x\":v})"
     ],
     "language": "python",
     "metadata": {},
     "outputs": [],
     "prompt_number": 87
    },
    {
     "cell_type": "code",
     "collapsed": false,
     "input": [
      "print r_json.content"
     ],
     "language": "python",
     "metadata": {},
     "outputs": [
      {
       "output_type": "stream",
       "stream": "stdout",
       "text": [
        "[\n",
        "    3\n",
        "]\n",
        "\n",
        "\n"
       ]
      }
     ],
     "prompt_number": 88
    },
    {
     "cell_type": "code",
     "collapsed": false,
     "input": [
      "r = requests.post(\"http://public.opencpu.org/ocpu/library/base/R/mean\", data={\"x\":v})\n",
      "\n",
      "for path in r.content.split():\n",
      "    print \"\\n--------------------\\n\" + path + \" :\\n\\n\" \\\n",
      "        + requests.get(\"http://public.opencpu.org{}\".format(path)).content"
     ],
     "language": "python",
     "metadata": {},
     "outputs": [
      {
       "output_type": "stream",
       "stream": "stdout",
       "text": [
        "\n",
        "--------------------\n",
        "/ocpu/tmp/x0984badaa5/R/.val :\n",
        "\n",
        "[1] 3\n",
        "\n",
        "\n",
        "--------------------\n",
        "/ocpu/tmp/x0984badaa5/stdout :\n",
        "\n",
        "[1] 3\n"
       ]
      },
      {
       "output_type": "stream",
       "stream": "stdout",
       "text": [
        "\n",
        "\n",
        "--------------------\n",
        "/ocpu/tmp/x0984badaa5/source :\n",
        "\n",
        "mean(x = x)"
       ]
      },
      {
       "output_type": "stream",
       "stream": "stdout",
       "text": [
        "\n",
        "\n",
        "--------------------\n",
        "/ocpu/tmp/x0984badaa5/console :\n",
        "\n",
        "> mean(x = x)\n",
        "[1] 3"
       ]
      },
      {
       "output_type": "stream",
       "stream": "stdout",
       "text": [
        "\n",
        "\n",
        "--------------------\n",
        "/ocpu/tmp/x0984badaa5/info :\n",
        "\n",
        "R version 3.1.2 (2014-10-31)\n",
        "Platform: x86_64-pc-linux-gnu (64-bit)\n",
        "\n",
        "locale:\n",
        " [1] LC_CTYPE=en_US.UTF-8    LC_NUMERIC=C            LC_TIME=en_US.UTF-8    \n",
        " [4] LC_COLLATE=en_US.UTF-8  LC_MONETARY=en_US.UTF-8 LC_MESSAGES=C          \n",
        " [7] LC_PAPER=C              LC_NAME=C               LC_ADDRESS=C           \n",
        "[10] LC_TELEPHONE=C          LC_MEASUREMENT=C        LC_IDENTIFICATION=C    \n",
        "\n",
        "attached base packages:\n",
        "[1] stats     graphics  grDevices utils     datasets  methods   base     \n",
        "\n",
        "other attached packages:\n",
        "[1] opencpu_1.4.6\n",
        "\n",
        "loaded via a namespace (and not attached):\n",
        " [1] base64enc_0.1-2    brew_1.0-6         colorspace_1.2-4   devtools_1.6.1    \n",
        " [5] digest_0.6.7       evaluate_0.5.5     formatR_1.0        ggplot2_1.0.0     \n",
        " [9] grid_3.1.2         gtable_0.1.2       httpuv_99.999      httr_0.6.0        \n",
        "[13] jsonlite_0.9.14    knitr_1.8          lattice_0.20-29    MASS_7.3-35       \n",
        "[17] Matrix_1.1-4       mgcv_1.8-4         munsell_0.4.2      nlme_3.1-118      \n",
        "[21] openssl_0.2        parallel_3.1.2     plyr_1.8.1         proto_0.3-10      \n",
        "[25] RAppArmor_1.0.1.99 Rcpp_0.11.3        reshape2_1.4.1     scales_0.2.4      \n",
        "[29] sendmailR_1.2-1    stringr_0.6.2      tools_3.1.2        unixtools_0.1-1   \n"
       ]
      },
      {
       "output_type": "stream",
       "stream": "stdout",
       "text": [
        "\n",
        "\n",
        "--------------------\n",
        "/ocpu/tmp/x0984badaa5/files/DESCRIPTION :\n",
        "\n",
        "Package: x0984badaa5\n",
        "Type: Session\n",
        "Version: 1.0\n",
        "Author: OpenCPU\n",
        "Date: 2015-02-15\n",
        "Description: This file is automatically generated by OpenCPU.\n"
       ]
      },
      {
       "output_type": "stream",
       "stream": "stdout",
       "text": [
        "\n"
       ]
      }
     ],
     "prompt_number": 89
    },
    {
     "cell_type": "markdown",
     "metadata": {},
     "source": [
      "---"
     ]
    },
    {
     "cell_type": "heading",
     "level": 2,
     "metadata": {},
     "source": [
      "Chained RPC with Graphical Output"
     ]
    },
    {
     "cell_type": "code",
     "collapsed": false,
     "input": [
      "r = requests.post(\"http://public.opencpu.org/ocpu/library/stats/R/lm\", \n",
      "        data={\"formula\":\"speed~dist\",\"data\":\"cars\"})"
     ],
     "language": "python",
     "metadata": {},
     "outputs": [],
     "prompt_number": 90
    },
    {
     "cell_type": "code",
     "collapsed": false,
     "input": [
      "print r.content"
     ],
     "language": "python",
     "metadata": {},
     "outputs": [
      {
       "output_type": "stream",
       "stream": "stdout",
       "text": [
        "/ocpu/tmp/x00fbf1aa4e/R/.val\n",
        "/ocpu/tmp/x00fbf1aa4e/stdout\n",
        "/ocpu/tmp/x00fbf1aa4e/source\n",
        "/ocpu/tmp/x00fbf1aa4e/console\n",
        "/ocpu/tmp/x00fbf1aa4e/info\n",
        "/ocpu/tmp/x00fbf1aa4e/files/DESCRIPTION\n",
        "\n"
       ]
      }
     ],
     "prompt_number": 91
    },
    {
     "cell_type": "code",
     "collapsed": false,
     "input": [
      "res = requests.get(\"http://public.opencpu.org/ocpu/tmp/x00fbf1aa4e/R/.val\")"
     ],
     "language": "python",
     "metadata": {},
     "outputs": [],
     "prompt_number": 92
    },
    {
     "cell_type": "code",
     "collapsed": false,
     "input": [
      "print res.content"
     ],
     "language": "python",
     "metadata": {},
     "outputs": [
      {
       "output_type": "stream",
       "stream": "stdout",
       "text": [
        "\n",
        "Call:\n",
        "lm(formula = speed ~ dist, data = cars)\n",
        "\n",
        "Coefficients:\n",
        "(Intercept)         dist  \n",
        "     8.2839       0.1656  \n",
        "\n",
        "\n"
       ]
      }
     ],
     "prompt_number": 93
    },
    {
     "cell_type": "code",
     "collapsed": false,
     "input": [
      "res = requests.post(\"http://public.opencpu.org/ocpu/library/base/R/get/json\", \n",
      "    data={\"x\":\"'coefficients'\",\"pos\":\"x00fbf1aa4e\"})"
     ],
     "language": "python",
     "metadata": {},
     "outputs": [],
     "prompt_number": 94
    },
    {
     "cell_type": "code",
     "collapsed": false,
     "input": [
      "print res.content"
     ],
     "language": "python",
     "metadata": {},
     "outputs": [
      {
       "output_type": "stream",
       "stream": "stdout",
       "text": [
        "[\n",
        "    8.2839,\n",
        "    0.1656\n",
        "]\n",
        "\n",
        "\n"
       ]
      }
     ],
     "prompt_number": 95
    },
    {
     "cell_type": "code",
     "collapsed": false,
     "input": [
      "req = requests.post(\"http://public.opencpu.org/ocpu/library/graphics/R/plot\", \n",
      "                    data={\"x\":\"x00fbf1aa4e\"})"
     ],
     "language": "python",
     "metadata": {},
     "outputs": [],
     "prompt_number": 96
    },
    {
     "cell_type": "code",
     "collapsed": false,
     "input": [
      "print req.content"
     ],
     "language": "python",
     "metadata": {},
     "outputs": [
      {
       "output_type": "stream",
       "stream": "stdout",
       "text": [
        "/ocpu/tmp/x08b1e1b4b2/R/.val\n",
        "/ocpu/tmp/x08b1e1b4b2/graphics/1\n",
        "/ocpu/tmp/x08b1e1b4b2/graphics/2\n",
        "/ocpu/tmp/x08b1e1b4b2/graphics/3\n",
        "/ocpu/tmp/x08b1e1b4b2/graphics/4\n",
        "/ocpu/tmp/x08b1e1b4b2/source\n",
        "/ocpu/tmp/x08b1e1b4b2/console\n",
        "/ocpu/tmp/x08b1e1b4b2/info\n",
        "/ocpu/tmp/x08b1e1b4b2/files/DESCRIPTION\n",
        "\n"
       ]
      }
     ],
     "prompt_number": 97
    },
    {
     "cell_type": "code",
     "collapsed": false,
     "input": [
      "from IPython.display import Image"
     ],
     "language": "python",
     "metadata": {},
     "outputs": [],
     "prompt_number": 98
    },
    {
     "cell_type": "code",
     "collapsed": false,
     "input": [
      "Image(url='http://public.opencpu.org/ocpu/tmp/x0f64e80a9b/graphics/1')"
     ],
     "language": "python",
     "metadata": {},
     "outputs": [
      {
       "html": [
        "<img src=\"http://public.opencpu.org/ocpu/tmp/x0f64e80a9b/graphics/1\"/>"
       ],
       "metadata": {},
       "output_type": "pyout",
       "prompt_number": 99,
       "text": [
        "<IPython.core.display.Image at 0x7f8d1423ecd0>"
       ]
      }
     ],
     "prompt_number": 99
    },
    {
     "cell_type": "code",
     "collapsed": false,
     "input": [
      "Image(url='http://public.opencpu.org/ocpu/tmp/x0f64e80a9b/graphics/2/png?width=300&height=300')"
     ],
     "language": "python",
     "metadata": {},
     "outputs": [
      {
       "html": [
        "<img src=\"http://public.opencpu.org/ocpu/tmp/x0f64e80a9b/graphics/2/png?width=300&height=300\"/>"
       ],
       "metadata": {},
       "output_type": "pyout",
       "prompt_number": 100,
       "text": [
        "<IPython.core.display.Image at 0x7f8d1423ed90>"
       ]
      }
     ],
     "prompt_number": 100
    }
   ],
   "metadata": {}
  }
 ]
}